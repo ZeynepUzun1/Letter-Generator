{
 "cells": [
  {
   "cell_type": "code",
   "execution_count": null,
   "id": "676d6585",
   "metadata": {},
   "outputs": [],
   "source": [
    "import os\n",
    "import requests\n",
    "from dotenv import load_dotenv\n",
    "from bs4 import BeautifulSoup\n",
    "from openai import OpenAI\n",
    "from IPython.display import Markdown, display"
   ]
  },
  {
   "cell_type": "code",
   "execution_count": null,
   "id": "ef5797d4",
   "metadata": {},
   "outputs": [],
   "source": [
    "load_dotenv()\n",
    "api_key = os.getenv('OPENAI_API_KEY')\n",
    "\n",
    "openai = OpenAI()\n",
    "\n",
    "class Website:\n",
    "    def __init__(self, url):\n",
    "        self.url = url\n",
    "        response = requests.get(url)\n",
    "        soup = BeautifulSoup(response.content, 'html.parser')\n",
    "        self.title = soup.title.string if soup.title else \"No title found\"\n",
    "        for irrelevant in soup.body([\"script\", \"style\", ]):\n",
    "            irrelevant.decompose()\n",
    "\n",
    "        self.text = soup.body.get_text(separator=\"\\n\", strip=True)\n",
    "\n",
    "site = Website(\"website_url\")\n",
    "\n",
    "prompt = \"You are an assistant that analyzes the contents of a website and based on the website I want you to provide a cover letter for an internship candidate who is interested in data science, ignoring text that might be navigation related. Respond in markdown.\"\n",
    "\n",
    "def user_prompt_for(website):\n",
    "    user_prompt = f\"You are looking at a website titled {website.title}\"\n",
    "    user_prompt += \"\\nThe contents of this website is as follows; provide a cover letter for an internship candidate who is interested in data science in markdown. Add news and announcements too.\\n\\n\"\n",
    "    user_prompt += website.text\n",
    "    return user_prompt\n",
    "\n",
    "print(user_prompt_for(site)) # Displaying the page"
   ]
  },
  {
   "cell_type": "code",
   "execution_count": null,
   "id": "669f394f",
   "metadata": {},
   "outputs": [],
   "source": [
    "def messages_for(website):\n",
    "    return [\n",
    "        {\"role\": \"system\", \"content\": prompt},\n",
    "        {\"role\": \"user\", \"content\": user_prompt_for(website)}\n",
    "    ]\n",
    "\n",
    "# messages_for(site)\n",
    "# Delete the '#' for debugging\n",
    "\n",
    "\n",
    "def coverLetter(url):\n",
    "    website = Website(url)\n",
    "    response = openai.chat.completions.create(\n",
    "        model = \"gpt-4o-mini\",\n",
    "        messages = messages_for(website)\n",
    "    )\n",
    "    return response.choices[0].message.content\n",
    "\n",
    "# coverLetter(\"url\")\n",
    "# Delete the '#' for debugging\n",
    "\n",
    "\n",
    "def display_letter(url):\n",
    "    summary = coverLetter(url)\n",
    "    display(Markdown(summary))\n",
    "\n",
    "display_letter(\"same_url_as_before\")"
   ]
  }
 ],
 "metadata": {
  "language_info": {
   "name": "python"
  }
 },
 "nbformat": 4,
 "nbformat_minor": 5
}
